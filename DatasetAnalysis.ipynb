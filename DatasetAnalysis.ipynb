{
 "cells": [
  {
   "cell_type": "code",
   "execution_count": 8,
   "id": "meaningful-calvin",
   "metadata": {},
   "outputs": [],
   "source": [
    "import pandas as pd\n",
    "import json"
   ]
  },
  {
   "cell_type": "code",
   "execution_count": 9,
   "id": "designed-kelly",
   "metadata": {},
   "outputs": [],
   "source": [
    "review_path = './yelp_dataset/yelp_academic_dataset_review.json'\n",
    "data_file = open(review_path)\n",
    "data = []\n",
    "count = 0\n",
    "for line in data_file:\n",
    "    data.append(json.loads(line))\n",
    "    count = count + 1\n",
    "    if count == 10000:\n",
    "        break\n",
    "    \n",
    "review_df = pd.DataFrame(data)\n",
    "data_file.close()"
   ]
  },
  {
   "cell_type": "code",
   "execution_count": 18,
   "id": "emerging-contract",
   "metadata": {},
   "outputs": [
    {
     "data": {
      "text/html": [
       "<div>\n",
       "<style scoped>\n",
       "    .dataframe tbody tr th:only-of-type {\n",
       "        vertical-align: middle;\n",
       "    }\n",
       "\n",
       "    .dataframe tbody tr th {\n",
       "        vertical-align: top;\n",
       "    }\n",
       "\n",
       "    .dataframe thead th {\n",
       "        text-align: right;\n",
       "    }\n",
       "</style>\n",
       "<table border=\"1\" class=\"dataframe\">\n",
       "  <thead>\n",
       "    <tr style=\"text-align: right;\">\n",
       "      <th></th>\n",
       "      <th>review_id</th>\n",
       "      <th>user_id</th>\n",
       "      <th>business_id</th>\n",
       "      <th>stars</th>\n",
       "      <th>useful</th>\n",
       "      <th>funny</th>\n",
       "      <th>cool</th>\n",
       "      <th>text</th>\n",
       "      <th>date</th>\n",
       "    </tr>\n",
       "  </thead>\n",
       "  <tbody>\n",
       "    <tr>\n",
       "      <th>0</th>\n",
       "      <td>lWC-xP3rd6obsecCYsGZRg</td>\n",
       "      <td>ak0TdVmGKo4pwqdJSTLwWw</td>\n",
       "      <td>buF9druCkbuXLX526sGELQ</td>\n",
       "      <td>4.0</td>\n",
       "      <td>3</td>\n",
       "      <td>1</td>\n",
       "      <td>1</td>\n",
       "      <td>Apparently Prides Osteria had a rough summer a...</td>\n",
       "      <td>2014-10-11 03:34:02</td>\n",
       "    </tr>\n",
       "    <tr>\n",
       "      <th>1</th>\n",
       "      <td>8bFej1QE5LXp4O05qjGqXA</td>\n",
       "      <td>YoVfDbnISlW0f7abNQACIg</td>\n",
       "      <td>RA4V8pr014UyUbDvI-LW2A</td>\n",
       "      <td>4.0</td>\n",
       "      <td>1</td>\n",
       "      <td>0</td>\n",
       "      <td>0</td>\n",
       "      <td>This store is pretty good. Not as great as Wal...</td>\n",
       "      <td>2015-07-03 20:38:25</td>\n",
       "    </tr>\n",
       "    <tr>\n",
       "      <th>2</th>\n",
       "      <td>NDhkzczKjLshODbqDoNLSg</td>\n",
       "      <td>eC5evKn1TWDyHCyQAwguUw</td>\n",
       "      <td>_sS2LBIGNT5NQb6PD1Vtjw</td>\n",
       "      <td>5.0</td>\n",
       "      <td>0</td>\n",
       "      <td>0</td>\n",
       "      <td>0</td>\n",
       "      <td>I called WVM on the recommendation of a couple...</td>\n",
       "      <td>2013-05-28 20:38:06</td>\n",
       "    </tr>\n",
       "    <tr>\n",
       "      <th>3</th>\n",
       "      <td>T5fAqjjFooT4V0OeZyuk1w</td>\n",
       "      <td>SFQ1jcnGguO0LYWnbbftAA</td>\n",
       "      <td>0AzLzHfOJgL7ROwhdww2ew</td>\n",
       "      <td>2.0</td>\n",
       "      <td>1</td>\n",
       "      <td>1</td>\n",
       "      <td>1</td>\n",
       "      <td>I've stayed at many Marriott and Renaissance M...</td>\n",
       "      <td>2010-01-08 02:29:15</td>\n",
       "    </tr>\n",
       "    <tr>\n",
       "      <th>4</th>\n",
       "      <td>sjm_uUcQVxab_EeLCqsYLg</td>\n",
       "      <td>0kA0PAJ8QFMeveQWHFqz2A</td>\n",
       "      <td>8zehGz9jnxPqXtOc7KaJxA</td>\n",
       "      <td>4.0</td>\n",
       "      <td>0</td>\n",
       "      <td>0</td>\n",
       "      <td>0</td>\n",
       "      <td>The food is always great here. The service fro...</td>\n",
       "      <td>2011-07-28 18:05:01</td>\n",
       "    </tr>\n",
       "    <tr>\n",
       "      <th>5</th>\n",
       "      <td>J4a2TuhDasjn2k3wWtHZnQ</td>\n",
       "      <td>RNm_RWkcd02Li2mKPRe7Eg</td>\n",
       "      <td>xGXzsc-hzam-VArK6eTvtw</td>\n",
       "      <td>1.0</td>\n",
       "      <td>2</td>\n",
       "      <td>0</td>\n",
       "      <td>0</td>\n",
       "      <td>This place used to be a cool, chill place. Now...</td>\n",
       "      <td>2018-01-21 04:41:03</td>\n",
       "    </tr>\n",
       "  </tbody>\n",
       "</table>\n",
       "</div>"
      ],
      "text/plain": [
       "                review_id                 user_id             business_id  \\\n",
       "0  lWC-xP3rd6obsecCYsGZRg  ak0TdVmGKo4pwqdJSTLwWw  buF9druCkbuXLX526sGELQ   \n",
       "1  8bFej1QE5LXp4O05qjGqXA  YoVfDbnISlW0f7abNQACIg  RA4V8pr014UyUbDvI-LW2A   \n",
       "2  NDhkzczKjLshODbqDoNLSg  eC5evKn1TWDyHCyQAwguUw  _sS2LBIGNT5NQb6PD1Vtjw   \n",
       "3  T5fAqjjFooT4V0OeZyuk1w  SFQ1jcnGguO0LYWnbbftAA  0AzLzHfOJgL7ROwhdww2ew   \n",
       "4  sjm_uUcQVxab_EeLCqsYLg  0kA0PAJ8QFMeveQWHFqz2A  8zehGz9jnxPqXtOc7KaJxA   \n",
       "5  J4a2TuhDasjn2k3wWtHZnQ  RNm_RWkcd02Li2mKPRe7Eg  xGXzsc-hzam-VArK6eTvtw   \n",
       "\n",
       "   stars  useful  funny  cool  \\\n",
       "0    4.0       3      1     1   \n",
       "1    4.0       1      0     0   \n",
       "2    5.0       0      0     0   \n",
       "3    2.0       1      1     1   \n",
       "4    4.0       0      0     0   \n",
       "5    1.0       2      0     0   \n",
       "\n",
       "                                                text                 date  \n",
       "0  Apparently Prides Osteria had a rough summer a...  2014-10-11 03:34:02  \n",
       "1  This store is pretty good. Not as great as Wal...  2015-07-03 20:38:25  \n",
       "2  I called WVM on the recommendation of a couple...  2013-05-28 20:38:06  \n",
       "3  I've stayed at many Marriott and Renaissance M...  2010-01-08 02:29:15  \n",
       "4  The food is always great here. The service fro...  2011-07-28 18:05:01  \n",
       "5  This place used to be a cool, chill place. Now...  2018-01-21 04:41:03  "
      ]
     },
     "execution_count": 18,
     "metadata": {},
     "output_type": "execute_result"
    }
   ],
   "source": [
    "review_df.head(6)\n",
    "#print(review_df.shape[0])"
   ]
  },
  {
   "cell_type": "code",
   "execution_count": 22,
   "id": "backed-clear",
   "metadata": {},
   "outputs": [
    {
     "name": "stdout",
     "output_type": "stream",
     "text": [
      "Overall a great experience. After a long day at a conference, it was nice to sit down to a warm meal. We tried the burger and the chicken pasta which were both cooked to perfection. Everything is made from scratch!! Have to come back to try the chicken pot pie!I was pleasantly surprised. I ordered the prime rib which was excellent and my husband enjoyed the signature plate chicken and ribs. The server was very attentive.Very tasty chicken. There's a reason it's in a big bold box. The Chocolate Uprising is fantastic. Way more intricate and tasty than I was expecting. Also, one of our party members left his camera in the booth. A member of the wait staff ran all the way out and gave it to us. Exceptional service, good food... I recommend it.The restaurant was very nice and clean and the staff on the day we went \"Memorial Day\" of all days was top notch. The servers were very attentive and even the managers stopped by the table a few times to make sure everything was to our satisfaction.\n",
      "We passed on appetizers knowing we wouldn't have room for desert. My wife ordered the \"Not So House Salad\" which she gave rave reviews and I had the Caesar salad which was anything but. It was really good with a peppery flavor and rich creamy dressing. Both salads came with homemade cornbread and cornbread croutons throughout.\n",
      "My wife ordered the Ribeye steak Medium and I had the Filet Medium Rare. The steaks were cooked to our liking and our server asked that we cut into them to confirm before he left them. Both of our dinners came with mashed potatoes and broccoli. The potatoes were good but nothing special. The broccoli however is the reason for only giving 4 stars. Broccoli should be steamed and come crisp and bright green in color to the table instead ours looked like what you would expect from Denny's, brown to grey in color and any chef with any self respect would have thrown those in the trash for a restaurant of this level.\n",
      "We had the pineapple upside down cake for desert which comes warm and topped with vanilla ice cream. It was just the right size for the two of us and was exactly what I had expected from the description. It was very tasty and I would have it again except next time I'm gonna try the bread pudding which I rarely pass up.\n",
      "Our bill for two was right at $100 with two cocktails that were $10 and $11 each. Not cheap but definitely not the most expensive choice for this style of restaurant.\n",
      "All in all a very pleasant experience and worth the trip. We will be going again in the future.This place is really great, especially for a chain restaurant, and I would recommend that all tourists come here instead of going to some crapfest like the Olive Garden or Black Angus. The atmosphere is dark and quiet, the drinks are reasonable, and while the wine list is a joke, they have Blue Moon on tap.\n",
      "\n",
      "The first thing we loved was the service-- group-style and spot-on!\n",
      "\n",
      "For ou r meal we had the off-menu Moink ($36), which included a quarter rack of ribs, half of a rotisserie chicken, a 4 oz filet mignon, mashed potatoes and green beans. We added a shrimp skewer ($4) and a side of macaroni and cheese ($4). I thought the plate was a little overpriced but the food was phenomenal. The steak was tender and cooked just right, and the butter that was on it was to die for. The chicken was perfect too. The ribs-- the meat just fell off the bone.\n",
      "\n",
      "We were too stuffed for dessert. The service was great and our meal ended up costing $70 after tip, which is a little pricey, but there's plenty of ways to try this restaurant and have it be more affordable. It's got a relaxing, quiet atmosphere which is perfect for the exhausted tourist and I know if I'm ever back in Orlando (unlikely, but still), I'll want to eat here again.\n"
     ]
    }
   ],
   "source": [
    "import numpy as np\n",
    "random = np.random.randint(9999)\n",
    "b1_id = review_df.iloc[random]['business_id']\n",
    "\n",
    "review_b1 = \"\"\n",
    "for i in range(review_df.shape[0]):\n",
    "    business_id = review_df.iloc[i]['business_id']\n",
    "    if  business_id == b1_id:\n",
    "        review_b1 = review_b1 + review_df.iloc[i]['text']\n",
    "    \n",
    "print(review_b1)"
   ]
  },
  {
   "cell_type": "code",
   "execution_count": 39,
   "id": "graphic-phase",
   "metadata": {},
   "outputs": [
    {
     "name": "stderr",
     "output_type": "stream",
     "text": [
      "[nltk_data] Downloading package punkt to /Users/lingdean/nltk_data...\n",
      "[nltk_data]   Package punkt is already up-to-date!\n"
     ]
    },
    {
     "data": {
      "image/png": "[encoded data removed]",
      "text/plain": [
       "<Figure size 432x288 with 1 Axes>"
      ]
     },
     "metadata": {
      "needs_background": "light"
     },
     "output_type": "display_data"
    },
    {
     "data": {
      "image/png": "[encoded data removed]",
      "text/plain": [
       "<Figure size 432x288 with 1 Axes>"
      ]
     },
     "metadata": {
      "needs_background": "light"
     },
     "output_type": "display_data"
    },
    {
     "data": {
      "text/plain": [
       "<AxesSubplot:xlabel='Samples', ylabel='Counts'>"
      ]
     },
     "execution_count": 39,
     "metadata": {},
     "output_type": "execute_result"
    }
   ],
   "source": [
    "#Tokenization and Stemming\n",
    "#word distribution before stemming\n",
    "import nltk\n",
    "nltk.download('punkt')\n",
    "from nltk.tokenize import word_tokenize\n",
    "from nltk.stem import PorterStemmer\n",
    "\n",
    "ps=PorterStemmer()\n",
    "\n",
    "tokens = word_tokenize(review_b1)\n",
    "fd = nltk.FreqDist(tokens)\n",
    "fd.plot(30,cumulative=False)\n",
    "\n",
    "#word distribution after stemming\n",
    "def stemString(review):\n",
    "    token_words=word_tokenize(review)\n",
    "    token_words\n",
    "    stem_string=[]\n",
    "    for word in token_words:\n",
    "        stem_string.append(ps.stem(word))\n",
    "        stem_string.append(\" \")\n",
    "    return \"\".join(stem_string)\n",
    "\n",
    "review_stem=stemString(review_b1)\n",
    "tokens_stem = word_tokenize(review_stem)\n",
    "fd = nltk.FreqDist(tokens_stem)\n",
    "fd.plot(30,cumulative=False)"
   ]
  },
  {
   "cell_type": "code",
   "execution_count": null,
   "id": "discrete-forty",
   "metadata": {},
   "outputs": [],
   "source": []
  },
  {
   "cell_type": "code",
   "execution_count": null,
   "id": "antique-ottawa",
   "metadata": {},
   "outputs": [],
   "source": []
  }
 ],
 "metadata": {
  "kernelspec": {
   "display_name": "Python 3",
   "language": "python",
   "name": "python3"
  },
  "language_info": {
   "codemirror_mode": {
    "name": "ipython",
    "version": 3
   },
   "file_extension": ".py",
   "mimetype": "text/x-python",
   "name": "python",
   "nbconvert_exporter": "python",
   "pygments_lexer": "ipython3",
   "version": "3.8.1"
  }
 },
 "nbformat": 4,
 "nbformat_minor": 5
}
