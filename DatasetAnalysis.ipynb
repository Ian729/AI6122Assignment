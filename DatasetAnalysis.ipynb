{
 "cells": [
  {
   "cell_type": "code",
   "execution_count": 3,
   "id": "meaningful-calvin",
   "metadata": {},
   "outputs": [],
   "source": [
    "import pandas as pd\n",
    "import json"
   ]
  },
  {
   "cell_type": "code",
   "execution_count": 4,
   "id": "skilled-velvet",
   "metadata": {},
   "outputs": [],
   "source": [
    "review_path = './yelp_dataset/yelp_academic_dataset_review.json'\n",
    "data_file = open(review_path)\n",
    "data = []\n",
    "count = 0\n",
    "for line in data_file:\n",
    "    data.append(json.loads(line))\n",
    "    count = count + 1\n",
    "    if count == 10000:\n",
    "        break\n",
    "    \n",
    "review_df = pd.DataFrame(data)\n",
    "data_file.close()"
   ]
  },
  {
   "cell_type": "code",
   "execution_count": 5,
   "id": "emerging-contract",
   "metadata": {},
   "outputs": [
    {
     "data": {
      "text/html": [
       "<div>\n",
       "<style scoped>\n",
       "    .dataframe tbody tr th:only-of-type {\n",
       "        vertical-align: middle;\n",
       "    }\n",
       "\n",
       "    .dataframe tbody tr th {\n",
       "        vertical-align: top;\n",
       "    }\n",
       "\n",
       "    .dataframe thead th {\n",
       "        text-align: right;\n",
       "    }\n",
       "</style>\n",
       "<table border=\"1\" class=\"dataframe\">\n",
       "  <thead>\n",
       "    <tr style=\"text-align: right;\">\n",
       "      <th></th>\n",
       "      <th>review_id</th>\n",
       "      <th>user_id</th>\n",
       "      <th>business_id</th>\n",
       "      <th>stars</th>\n",
       "      <th>useful</th>\n",
       "      <th>funny</th>\n",
       "      <th>cool</th>\n",
       "      <th>text</th>\n",
       "      <th>date</th>\n",
       "    </tr>\n",
       "  </thead>\n",
       "  <tbody>\n",
       "    <tr>\n",
       "      <th>0</th>\n",
       "      <td>lWC-xP3rd6obsecCYsGZRg</td>\n",
       "      <td>ak0TdVmGKo4pwqdJSTLwWw</td>\n",
       "      <td>buF9druCkbuXLX526sGELQ</td>\n",
       "      <td>4.0</td>\n",
       "      <td>3</td>\n",
       "      <td>1</td>\n",
       "      <td>1</td>\n",
       "      <td>Apparently Prides Osteria had a rough summer a...</td>\n",
       "      <td>2014-10-11 03:34:02</td>\n",
       "    </tr>\n",
       "    <tr>\n",
       "      <th>1</th>\n",
       "      <td>8bFej1QE5LXp4O05qjGqXA</td>\n",
       "      <td>YoVfDbnISlW0f7abNQACIg</td>\n",
       "      <td>RA4V8pr014UyUbDvI-LW2A</td>\n",
       "      <td>4.0</td>\n",
       "      <td>1</td>\n",
       "      <td>0</td>\n",
       "      <td>0</td>\n",
       "      <td>This store is pretty good. Not as great as Wal...</td>\n",
       "      <td>2015-07-03 20:38:25</td>\n",
       "    </tr>\n",
       "    <tr>\n",
       "      <th>2</th>\n",
       "      <td>NDhkzczKjLshODbqDoNLSg</td>\n",
       "      <td>eC5evKn1TWDyHCyQAwguUw</td>\n",
       "      <td>_sS2LBIGNT5NQb6PD1Vtjw</td>\n",
       "      <td>5.0</td>\n",
       "      <td>0</td>\n",
       "      <td>0</td>\n",
       "      <td>0</td>\n",
       "      <td>I called WVM on the recommendation of a couple...</td>\n",
       "      <td>2013-05-28 20:38:06</td>\n",
       "    </tr>\n",
       "    <tr>\n",
       "      <th>3</th>\n",
       "      <td>T5fAqjjFooT4V0OeZyuk1w</td>\n",
       "      <td>SFQ1jcnGguO0LYWnbbftAA</td>\n",
       "      <td>0AzLzHfOJgL7ROwhdww2ew</td>\n",
       "      <td>2.0</td>\n",
       "      <td>1</td>\n",
       "      <td>1</td>\n",
       "      <td>1</td>\n",
       "      <td>I've stayed at many Marriott and Renaissance M...</td>\n",
       "      <td>2010-01-08 02:29:15</td>\n",
       "    </tr>\n",
       "    <tr>\n",
       "      <th>4</th>\n",
       "      <td>sjm_uUcQVxab_EeLCqsYLg</td>\n",
       "      <td>0kA0PAJ8QFMeveQWHFqz2A</td>\n",
       "      <td>8zehGz9jnxPqXtOc7KaJxA</td>\n",
       "      <td>4.0</td>\n",
       "      <td>0</td>\n",
       "      <td>0</td>\n",
       "      <td>0</td>\n",
       "      <td>The food is always great here. The service fro...</td>\n",
       "      <td>2011-07-28 18:05:01</td>\n",
       "    </tr>\n",
       "    <tr>\n",
       "      <th>5</th>\n",
       "      <td>J4a2TuhDasjn2k3wWtHZnQ</td>\n",
       "      <td>RNm_RWkcd02Li2mKPRe7Eg</td>\n",
       "      <td>xGXzsc-hzam-VArK6eTvtw</td>\n",
       "      <td>1.0</td>\n",
       "      <td>2</td>\n",
       "      <td>0</td>\n",
       "      <td>0</td>\n",
       "      <td>This place used to be a cool, chill place. Now...</td>\n",
       "      <td>2018-01-21 04:41:03</td>\n",
       "    </tr>\n",
       "  </tbody>\n",
       "</table>\n",
       "</div>"
      ],
      "text/plain": [
       "                review_id                 user_id             business_id  \\\n",
       "0  lWC-xP3rd6obsecCYsGZRg  ak0TdVmGKo4pwqdJSTLwWw  buF9druCkbuXLX526sGELQ   \n",
       "1  8bFej1QE5LXp4O05qjGqXA  YoVfDbnISlW0f7abNQACIg  RA4V8pr014UyUbDvI-LW2A   \n",
       "2  NDhkzczKjLshODbqDoNLSg  eC5evKn1TWDyHCyQAwguUw  _sS2LBIGNT5NQb6PD1Vtjw   \n",
       "3  T5fAqjjFooT4V0OeZyuk1w  SFQ1jcnGguO0LYWnbbftAA  0AzLzHfOJgL7ROwhdww2ew   \n",
       "4  sjm_uUcQVxab_EeLCqsYLg  0kA0PAJ8QFMeveQWHFqz2A  8zehGz9jnxPqXtOc7KaJxA   \n",
       "5  J4a2TuhDasjn2k3wWtHZnQ  RNm_RWkcd02Li2mKPRe7Eg  xGXzsc-hzam-VArK6eTvtw   \n",
       "\n",
       "   stars  useful  funny  cool  \\\n",
       "0    4.0       3      1     1   \n",
       "1    4.0       1      0     0   \n",
       "2    5.0       0      0     0   \n",
       "3    2.0       1      1     1   \n",
       "4    4.0       0      0     0   \n",
       "5    1.0       2      0     0   \n",
       "\n",
       "                                                text                 date  \n",
       "0  Apparently Prides Osteria had a rough summer a...  2014-10-11 03:34:02  \n",
       "1  This store is pretty good. Not as great as Wal...  2015-07-03 20:38:25  \n",
       "2  I called WVM on the recommendation of a couple...  2013-05-28 20:38:06  \n",
       "3  I've stayed at many Marriott and Renaissance M...  2010-01-08 02:29:15  \n",
       "4  The food is always great here. The service fro...  2011-07-28 18:05:01  \n",
       "5  This place used to be a cool, chill place. Now...  2018-01-21 04:41:03  "
      ]
     },
     "execution_count": 5,
     "metadata": {},
     "output_type": "execute_result"
    }
   ],
   "source": [
    "review_df.head(6)\n",
    "#print(review_df.shape[0])"
   ]
  },
  {
   "cell_type": "code",
   "execution_count": 6,
   "id": "turned-notification",
   "metadata": {},
   "outputs": [
    {
     "name": "stdout",
     "output_type": "stream",
     "text": [
      "I love the high level of training for the most part.  Friendly staff, awsome coaches,  variety of classes, convenience, great training partners, etc... I love this gym!I appreciate the fact that the classes are offered 7 days a week with plenty of time slots. Teachers and class sizes vary so that can be good and bad. For the weight section you're left to your on devices which I enjoy. The environment is intense. This isn't your YMCA friendly weight room but you'll get a great workout. This is a fight training gym and delivers just that. No frills , just sweat.\n"
     ]
    }
   ],
   "source": [
    "import numpy as np\n",
    "random = np.random.randint(9999)\n",
    "b1_id = review_df.iloc[random]['business_id']\n",
    "\n",
    "review_b1 = \"\"\n",
    "for i in range(review_df.shape[0]):\n",
    "    business_id = review_df.iloc[i]['business_id']\n",
    "    if  business_id == b1_id:\n",
    "        review_b1 = review_b1 + review_df.iloc[i]['text']\n",
    "    \n",
    "print(review_b1)"
   ]
  },
  {
   "cell_type": "code",
   "execution_count": 7,
   "id": "hollywood-guitar",
   "metadata": {},
   "outputs": [
    {
     "name": "stderr",
     "output_type": "stream",
     "text": [
      "[nltk_data] Downloading package punkt to /Users/lingdean/nltk_data...\n",
      "[nltk_data]   Package punkt is already up-to-date!\n"
     ]
    },
    {
     "data": {
      "image/png": "[encoded data removed]",
      "text/plain": [
       "<Figure size 432x288 with 1 Axes>"
      ]
     },
     "metadata": {
      "needs_background": "light"
     },
     "output_type": "display_data"
    },
    {
     "data": {
      "image/png": "[encoded data removed]",
      "text/plain": [
       "<Figure size 432x288 with 1 Axes>"
      ]
     },
     "metadata": {
      "needs_background": "light"
     },
     "output_type": "display_data"
    },
    {
     "data": {
      "text/plain": [
       "<AxesSubplot:xlabel='Samples', ylabel='Counts'>"
      ]
     },
     "execution_count": 7,
     "metadata": {},
     "output_type": "execute_result"
    }
   ],
   "source": [
    "#Tokenization and Stemming\n",
    "#word distribution before stemming\n",
    "import nltk\n",
    "nltk.download('punkt')\n",
    "from nltk.tokenize import word_tokenize\n",
    "from nltk.stem import PorterStemmer\n",
    "from nltk.stem import LancasterStemmer\n",
    "\n",
    "ps=PorterStemmer()\n",
    "ls=LancasterStemmer()\n",
    "\n",
    "tokens = word_tokenize(review_b1)\n",
    "fd = nltk.FreqDist(tokens)\n",
    "fd.plot(30,cumulative=False)\n",
    "\n",
    "#word distribution after stemming\n",
    "def stemString(review):\n",
    "    token_words=word_tokenize(review)\n",
    "    token_words\n",
    "    stem_string=[]\n",
    "    for word in token_words:\n",
    "        stem_string.append(ls.stem(word))\n",
    "        stem_string.append(\" \")\n",
    "    return \"\".join(stem_string)\n",
    "\n",
    "review_stem=stemString(review_b1)\n",
    "tokens_stem = word_tokenize(review_stem)\n",
    "fd = nltk.FreqDist(tokens_stem)\n",
    "fd.plot(30,cumulative=False)"
   ]
  },
  {
   "cell_type": "code",
   "execution_count": 10,
   "id": "unique-entrance",
   "metadata": {},
   "outputs": [
    {
     "name": "stderr",
     "output_type": "stream",
     "text": [
      "[nltk_data] Downloading package averaged_perceptron_tagger to\n",
      "[nltk_data]     /Users/lingdean/nltk_data...\n",
      "[nltk_data]   Package averaged_perceptron_tagger is already up-to-\n",
      "[nltk_data]       date!\n"
     ]
    },
    {
     "name": "stdout",
     "output_type": "stream",
     "text": [
      "showing info https://raw.githubusercontent.com/nltk/nltk_data/gh-pages/index.xml\n",
      "[('I', 'PRP'), ('LOVE', 'VBP'), ('going', 'VBG'), ('into', 'IN'), ('Forty', 'NNP'), ('Winks', 'NNP'), ('!', '.'), ('No', 'DT'), ('matter', 'NN'), ('the', 'DT'), ('kind', 'NN'), ('of', 'IN'), ('bra', 'NN'), ('I', 'PRP'), (\"'m\", 'VBP'), ('looking', 'VBG'), ('for', 'IN'), (',', ','), ('these', 'DT'), ('ladies', 'NNS'), ('are', 'VBP'), ('always', 'RB'), ('ready', 'JJ'), ('to', 'TO'), ('help', 'VB'), ('&', 'CC'), ('very', 'RB'), ('knowledgeable', 'JJ'), ('.', '.'), ('They', 'PRP'), ('understand', 'VBP'), ('all', 'DT'), ('body', 'NN'), ('types', 'NNS'), ('are', 'VBP'), ('different', 'JJ'), ('&', 'CC'), ('not', 'RB'), ('all', 'DT'), ('bras', 'NNS'), ('(', '('), ('or', 'CC'), ('boobs', 'NN'), (')', ')'), ('are', 'VBP'), ('created', 'VBN'), ('equal', 'JJ'), ('.', '.'), ('Looking', 'VBG'), ('for', 'IN'), ('a', 'DT'), ('specific', 'JJ'), ('size', 'NN'), ('or', 'CC'), ('colour', 'NN'), ('?', '.'), ('They', 'PRP'), (\"'ll\", 'MD'), ('special', 'JJ'), ('order', 'NN'), ('ANYTHING', 'NN'), ('you', 'PRP'), ('need', 'VBP'), ('.', '.'), ('I', 'PRP'), (\"'ll\", 'MD'), ('keep', 'VB'), ('coming', 'VBG'), ('back', 'RB'), ('over', 'IN'), ('&', 'CC'), ('over', 'IN'), (',', ','), ('they', 'PRP'), ('keep', 'VBP'), ('me', 'PRP'), ('(', '('), ('and', 'CC'), ('my', 'PRP$'), ('girls', 'NNS'), (')', ')'), ('happy.This', 'VBP'), ('place', 'NN'), ('really', 'RB'), ('hits', 'VBZ'), ('the', 'DT'), ('spot', 'NN'), ('after', 'IN'), ('a', 'DT'), ('long', 'JJ'), ('day', 'NN'), ('of', 'IN'), ('shopping', 'VBG'), ('on', 'IN'), ('Newbury', 'NNP'), ('st', 'NN'), ('.', '.'), ('I', 'PRP'), ('finally', 'RB'), ('get', 'VB'), ('to', 'TO'), ('sit', 'VB'), ('down', 'RP'), ('after', 'IN'), ('walking', 'VBG'), ('for', 'IN'), ('hours', 'NNS'), (',', ','), ('eat', 'VB'), ('some', 'DT'), ('good', 'JJ'), ('sushi', 'NN'), (',', ','), ('drink', 'VB'), ('some', 'DT'), ('good', 'JJ'), ('miso', 'NN'), ('soup', 'NN'), ('and', 'CC'), ('re-energize', 'VB'), ('for', 'IN'), ('more', 'JJR'), ('shopping', 'NN'), ('.', '.'), ('Even', 'RB'), ('though', 'IN'), ('the', 'DT'), ('sushi', 'NN'), ('men', 'NNS'), ('at', 'IN'), ('this', 'DT'), ('place', 'NN'), ('can', 'MD'), ('be', 'VB'), ('a', 'DT'), ('little', 'JJ'), ('creepy', 'NN'), (',', ','), ('I', 'PRP'), ('love', 'VBP'), ('this', 'DT'), ('place', 'NN'), ('and', 'CC'), ('it', 'PRP'), ('will', 'MD'), ('forever', 'RB'), ('be', 'VB'), ('my', 'PRP$'), ('lunch', 'NN'), ('spot', 'NN'), ('when', 'WRB'), ('i', 'NN'), (\"'m\", 'VBP'), ('shopping', 'VBG'), ('in', 'IN'), ('the', 'DT'), ('area', 'NN'), ('xo', 'NN'), ('AlenaHORRIBLY', 'NNP'), ('unethical', 'JJ'), ('.', '.'), ('There', 'EX'), ('was', 'VBD'), ('a', 'DT'), ('billing', 'NN'), ('error', 'NN'), ('with', 'IN'), ('one', 'CD'), ('of', 'IN'), ('my', 'PRP$'), ('son', 'NN'), (\"'s\", 'POS'), ('insurance', 'NN'), ('.', '.'), ('I', 'PRP'), ('talked', 'VBD'), ('to', 'TO'), ('multiple', 'JJ'), ('people', 'NNS'), ('at', 'IN'), ('the', 'DT'), ('office', 'NN'), ('who', 'WP'), ('insisted', 'VBD'), ('that', 'IN'), ('they', 'PRP'), ('did', 'VBD'), ('not', 'RB'), ('make', 'VB'), ('the', 'DT'), ('mistake', 'NN'), ('.', '.'), ('Not', 'RB'), ('only', 'RB'), ('did', 'VBD'), ('they', 'PRP'), ('CANCEL', 'NNP'), ('both', 'DT'), ('of', 'IN'), ('my', 'PRP$'), ('children', 'NNS'), (\"'s\", 'POS'), ('appointments', 'NNS'), ('but', 'CC'), ('my', 'PRP$'), ('other', 'JJ'), ('child', 'NN'), ('(', '('), ('without', 'IN'), ('a', 'DT'), ('billing', 'NN'), ('error', 'NN'), (')', ')'), ('with', 'IN'), ('special', 'JJ'), ('needs', 'NNS'), ('needs', 'NNS'), ('follow', 'VBP'), ('up', 'RP'), ('on', 'IN'), ('a', 'DT'), ('procedure', 'NN'), ('they', 'PRP'), ('performed', 'VBD'), ('.', '.'), ('All', 'DT'), ('over', 'IN'), ('$', '$'), ('50', 'CD'), ('.', '.'), ('I', 'PRP'), ('will', 'MD'), ('never', 'RB'), ('bring', 'VB'), ('my', 'PRP$'), ('children', 'NNS'), ('there', 'RB'), ('ever', 'RB'), ('again', 'RB'), ('nor', 'CC'), ('would', 'MD'), ('I', 'PRP'), ('recommend', 'VB'), ('it', 'PRP'), ('to', 'TO'), ('anyone', 'NN'), ('.', '.'), ('How', 'WRB'), ('could', 'MD'), ('they', 'PRP'), ('cancel', 'VB'), ('appointments', 'NNS'), ('for', 'IN'), ('children', 'NNS'), ('that', 'WDT'), ('are', 'VBP'), ('in', 'IN'), ('need', 'NN'), ('of', 'IN'), ('dental', 'JJ'), ('attention', 'NN'), ('?', '.'), ('I', 'PRP'), ('know', 'VBP'), ('people', 'NNS'), ('complain', 'VBP'), ('about', 'IN'), ('the', 'DT'), ('smell', 'NN'), ('in', 'IN'), ('the', 'DT'), ('elevators', 'NNS'), ('...', ':'), ('but', 'CC'), ('I', 'PRP'), (\"'ve\", 'VBP'), ('been', 'VBN'), ('taking', 'VBG'), ('them', 'PRP'), ('and', 'CC'), ('I', 'PRP'), ('have', 'VBP'), (\"n't\", 'RB'), ('had', 'VBD'), ('an', 'DT'), ('issue', 'NN'), ('.', '.'), ('They', 'PRP'), ('have', 'VBP'), ('been', 'VBN'), ('clean', 'JJ'), ('and', 'CC'), ('prompt', 'JJ'), ('...', ':'), ('no', 'DT'), ('bad', 'JJ'), ('smells', 'NNS'), ('setting', 'VBG'), ('off', 'RP'), ('my', 'PRP$'), ('morning', 'NN'), ('sickness.Hub', 'NN'), ('Pub', 'NNP'), ('is', 'VBZ'), ('so', 'RB'), ('Boston', 'NNP'), ('.', '.'), ('They', 'PRP'), ('have', 'VBP'), ('beer', 'NN'), ('.', '.'), ('It', 'PRP'), (\"'s\", 'VBZ'), ('tucked', 'VBN'), ('away', 'RB'), ('on', 'IN'), ('Province', 'NNP'), ('St', 'NNP'), ('.', '.'), ('They', 'PRP'), ('have', 'VBP'), ('some', 'DT'), ('food', 'NN'), ('.', '.'), ('It', 'PRP'), (\"'s\", 'VBZ'), ('usually', 'RB'), ('a', 'DT'), ('regular', 'JJ'), ('type', 'NN'), ('of', 'IN'), ('crowd', 'NN'), ('or', 'CC'), ('people', 'NNS'), ('that', 'WDT'), ('just', 'RB'), ('happened', 'VBD'), ('to', 'TO'), ('stumble', 'VB'), ('in', 'IN'), ('.', '.'), ('There', 'EX'), (\"'s\", 'VBZ'), ('absolutely', 'RB'), ('nothing', 'NN'), ('destinguishing', 'VBG'), ('about', 'IN'), ('this', 'DT'), ('place', 'NN'), ('except', 'IN'), ('that', 'DT'), ('if', 'IN'), ('you', 'PRP'), ('are', 'VBP'), ('in', 'IN'), ('a', 'DT'), ('last', 'JJ'), ('ditch', 'NN'), ('effort', 'NN'), ('to', 'TO'), ('get', 'VB'), ('some', 'DT'), ('food', 'NN'), ('before', 'IN'), ('last', 'JJ'), ('call', 'NN'), ('and', 'CC'), ('are', 'VBP'), (\"n't\", 'RB'), ('drunk', 'JJ'), ('enough', 'RB'), ('for', 'IN'), ('``', '``'), ('street', 'NN'), ('meat', 'NN'), (\"''\", \"''\"), ('off', 'RP'), ('a', 'DT'), ('cart-', 'NN'), ('this', 'DT'), ('is', 'VBZ'), (\"n't\", 'RB'), ('a', 'DT'), ('bad', 'JJ'), ('option', 'NN'), ('...', ':')]\n"
     ]
    }
   ],
   "source": [
    "#POS Tagging\n",
    "from nltk import pos_tag\n",
    "nltk.download('averaged_perceptron_tagger')\n",
    "#nltk.download()\n",
    "\n",
    "\n",
    "review = \"\"\n",
    "for i in range(5):\n",
    "    random = np.random.randint(9999)\n",
    "    review = review + review_df.iloc[random]['text']\n",
    "\n",
    "review_token = word_tokenize(review)\n",
    "print(pos_tag(review_token))"
   ]
  },
  {
   "cell_type": "code",
   "execution_count": null,
   "id": "orange-serial",
   "metadata": {},
   "outputs": [],
   "source": []
  }
 ],
 "metadata": {
  "kernelspec": {
   "display_name": "Python 3",
   "language": "python",
   "name": "python3"
  },
  "language_info": {
   "codemirror_mode": {
    "name": "ipython",
    "version": 3
   },
   "file_extension": ".py",
   "mimetype": "text/x-python",
   "name": "python",
   "nbconvert_exporter": "python",
   "pygments_lexer": "ipython3",
   "version": "3.8.1"
  }
 },
 "nbformat": 4,
 "nbformat_minor": 5
}
